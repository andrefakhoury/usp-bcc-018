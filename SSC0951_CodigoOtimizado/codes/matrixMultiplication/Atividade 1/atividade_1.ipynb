{
 "cells": [
  {
   "cell_type": "markdown",
   "metadata": {},
   "source": [
    "# Atividade 1 - Multiplicação de Matrizes\n",
    "\n",
    "Nesta atividade, serão comparados os métodos de *Loop Interchange* e *Loop Unrolling* em multiplicação de matrizes. Os códigos aqui descritos serão em *C++*, e os gráficos serão gerados em *Python*.\n",
    "\n",
    "Para facilitar a visualização e simplificar o código, serão usados os *vector*, vetores dinâmicos da STL, e a seguinte linha:\n",
    "\n",
    "```c++\n",
    "using Matrix = vector<vector<int>>;\n",
    "```\n",
    "\n",
    "Simplificando assim o entendimento."
   ]
  },
  {
   "cell_type": "markdown",
   "metadata": {},
   "source": [
    "### A multiplicação padrão\n",
    "\n",
    "Primeiramente, vamos descrever a técnica padrão de multiplicação de matrizes.\n",
    "```C++\n",
    "inline void mat_mult(Matrix const& A, Matrix const& B, Matrix& C, int const n) {\n",
    "    for (int i = 0; i < n; i++)\n",
    "        for (int j = 0; j < n; j++)\n",
    "            for (int k = 0; k < n; k++)\n",
    "                C[i][j] += A[i][k] * B[k][j];\n",
    "```\n",
    "\n",
    "Embora este método seja simples, o fato de ter que recarregar a cache várias vezes o torna muito lento."
   ]
  },
  {
   "cell_type": "markdown",
   "metadata": {},
   "source": [
    "### Loop Interchange\n",
    "\n",
    "De modo a aumentar o número de acertos na *cache*, podemos trocar a ordem dos dois *for* mais internos.\n",
    "\n",
    "```C++\n",
    "inline void mat_mult_interchange(Matrix const& A, Matrix const& B, Matrix& C, int const n) {\n",
    "\tfor (int i = 0; i < n; i++)\n",
    "\t\tfor (int k = 0; k < n; k++)\n",
    "\t\t\tfor (int j = 0; j < n; j++)\n",
    "\t\t\t\tC[i][j] += A[i][k] * B[k][j];\n",
    "}\n",
    "```"
   ]
  },
  {
   "cell_type": "markdown",
   "metadata": {},
   "source": [
    "### Loop Unrolling\n",
    "\n",
    "Esta técnica consiste em diminuir a quantidade de repetições do loop mais interno. Esta técnica também garante mais informações aos compiladores, que podem otimizar mais ainda o código realizado.\n",
    "\n",
    "```C++\n",
    "inline void mat_mult_unrolling(Matrix const& A, Matrix const& B, Matrix& C, int const n) {\n",
    "\tfor (int i = 0; i < n; i++)\n",
    "\t\tfor (int k = 0; k < n; k++)\n",
    "\t\t\tfor (int j = 0; j < n; j += 5) {\n",
    "\t\t\t\tC[i][j+0] += A[i][k] * B[k][j+0];\n",
    "\t\t\t\tC[i][j+1] += A[i][k] * B[k][j+1];\n",
    "\t\t\t\tC[i][j+2] += A[i][k] * B[k][j+2];\n",
    "\t\t\t\tC[i][j+3] += A[i][k] * B[k][j+3];\n",
    "\t\t\t}\n",
    "}\n",
    "```"
   ]
  },
  {
   "cell_type": "markdown",
   "metadata": {},
   "source": [
    "### Geração das matrizes e chamadas das funções\n",
    "\n",
    "As matrizes foram geradas com números (pseudo) aleatórios, com a função *rand* do C/C++. Também foi feito o teste utilizando *mt19937*, porém os resultados não se mostraram distintos.\n",
    "\n",
    "```c++\n",
    "Matrix a(n, vector<int>(n));\n",
    "Matrix b(n, vector<int>(n));\n",
    "Matrix c(n, vector<int>(n));\n",
    "for (int i = 0; i < n; i++) {\n",
    "\tfor (int j = 0; j < n; j++) {\n",
    "\t\ta[i][j] = rand()%1000;\n",
    "\t\tb[i][j] = rand()%1000;\n",
    "\t}\n",
    "}\n",
    "```\n",
    "\n",
    "As funções eram chamadas de acordo com argumentos cedidos ao programa durante a execução *(argc, argv)*."
   ]
  },
  {
   "cell_type": "code",
   "execution_count": null,
   "metadata": {},
   "outputs": [],
   "source": []
  },
  {
   "cell_type": "markdown",
   "metadata": {},
   "source": [
    "# Execução dos códigos e uso do perfilador *perf*\n",
    "\n",
    "Os códigos com os métodos de *loop unrolling* e *loop interchange* foram executados com o **perfilador *perf***, e seus resultados foram simplificados e gravados em arquivos no diretório *out/final*, trabalho automatizado com o código em *bash* a seguir.\n",
    "\n",
    "```bash\n",
    "for method in 'i' 'u'\n",
    "do\n",
    "\tfor n in 10 100 1000\n",
    "\tdo\n",
    "\t\tfor i in 0 1 2 3 4 5 6 7 8 9\n",
    "\t\tdo\n",
    "\t\t\techo $method $n $i\n",
    "\t\t\tsudo perf stat -e L1-dcache-loads,L1-dcache-load-misses,branch-instructions,branch-misses ./atividade_1 $method $n &> ./out/$method''$n'_'$i.txt\n",
    "\t\t\t./out/convert < ./out/$method''$n'_'$i.txt > out/final/$method$n'_'$i.txt\n",
    "\t\tdone\n",
    "\tdone\n",
    "done\n",
    "```\n",
    "\n",
    "A análise levará em consideração os atributos de *L1-dcache-loads*, *L1-dcache-load-misses*, *branch-instructions* e *branch-misses*, obtidos utilizando o *perf*."
   ]
  },
  {
   "cell_type": "markdown",
   "metadata": {},
   "source": [
    "# Análise dos métodos descritos\n",
    "\n",
    "Para a análise, serão usados códigos em *python*, descritos a seguir."
   ]
  },
  {
   "cell_type": "code",
   "execution_count": 4,
   "metadata": {},
   "outputs": [],
   "source": [
    "class Stats:\n",
    "    def __init__(self, L1_dcache_loads, L1_dcache_loads_misses, branch_instructions, branch_misses):\n",
    "        self.L1_dcache_loads = L1_dcache_loads\n",
    "        self.L1_dcache_loads_misses = L1_dcache_loads_misses\n",
    "        self.branch_instructions = branch_instructions\n",
    "        self.branch_misses = branch_misses\n",
    "        \n",
    "    def __init__(self, array):\n",
    "        self.L1_dcache_loads = int(array[0])\n",
    "        self.L1_dcache_loads_misses = int(array[1])\n",
    "        self.branch_instructions = int(array[2])\n",
    "        self.branch_misses = array[3]"
   ]
  },
  {
   "cell_type": "code",
   "execution_count": 6,
   "metadata": {},
   "outputs": [],
   "source": [
    "info = {}\n",
    "for method in {'i', 'u'}:\n",
    "    for n in {10, 100, 1000}:\n",
    "        current_name = \"Loop \"\n",
    "        if method == 'i':\n",
    "            current_name += \"Interchange\"\n",
    "        else:\n",
    "            current_name += \"Unrolling\"\n",
    "        current_name += \", n = \" + str(n)\n",
    "        \n",
    "        info[current_name] = []\n",
    "        \n",
    "        for iteration in range(10):\n",
    "            fp = open(\"out/final/\" + str(method) + str(n) + \"_\" + str(iteration) + \".txt\", \"r\")\n",
    "            lines = fp.readlines()\n",
    "            fp.close()\n",
    "\n",
    "            content = []\n",
    "            for line in lines:\n",
    "                x = float(line)\n",
    "                content.append(x)\n",
    "            \n",
    "            info[current_name].append(Stats(content))"
   ]
  },
  {
   "cell_type": "markdown",
   "metadata": {},
   "source": [
    "De modo a termos mais informações sobre os dados retirados, além da média de execução, também serão descritos os intervalos de confiança de cada atributo."
   ]
  },
  {
   "cell_type": "code",
   "execution_count": 7,
   "metadata": {},
   "outputs": [],
   "source": [
    "import numpy as np\n",
    "import scipy.stats\n",
    "\n",
    "def mean_confidence_interval(data, confidence=0.95):\n",
    "    a = 1.0 * np.array(data)\n",
    "    n = len(a)\n",
    "    m, se = np.mean(a), scipy.stats.sem(a)\n",
    "    h = se * scipy.stats.t.ppf((1 + confidence) / 2., n-1)\n",
    "    return m, h, h"
   ]
  },
  {
   "cell_type": "code",
   "execution_count": 8,
   "metadata": {},
   "outputs": [],
   "source": [
    "metric = {}\n",
    "metric[\"L1_LOAD\"] = []\n",
    "metric[\"L1_MISS\"] = []\n",
    "metric[\"BR_INST\"] = []\n",
    "metric[\"BR_MISS\"] = []\n",
    "\n",
    "for vals in info:\n",
    "    l1_load = [x.L1_dcache_loads for x in info[vals]]\n",
    "    metric[\"L1_LOAD\"].append([vals, mean_confidence_interval(l1_load)])\n",
    "    \n",
    "    l1_miss = [x.L1_dcache_loads_misses for x in info[vals]]\n",
    "    metric[\"L1_MISS\"].append([vals, mean_confidence_interval(l1_miss)])\n",
    "    \n",
    "    br_inst = [x.branch_instructions for x in info[vals]]\n",
    "    metric[\"BR_INST\"].append([vals, mean_confidence_interval(br_inst)])\n",
    "    \n",
    "    br_miss = [x.branch_misses for x in info[vals]]\n",
    "    metric[\"BR_MISS\"].append([vals, mean_confidence_interval(br_miss)])"
   ]
  },
  {
   "cell_type": "markdown",
   "metadata": {},
   "source": [
    "# Geração dos gráficos\n",
    "\n",
    "Agora, com tudo preparado, podemos gerar os gráficos para cada atributo obtido pelo *perf*. Será utilizada a biblioteca *matplotlib*.\n"
   ]
  },
  {
   "cell_type": "code",
   "execution_count": 10,
   "metadata": {},
   "outputs": [],
   "source": [
    "import matplotlib.pyplot as plt"
   ]
  },
  {
   "cell_type": "markdown",
   "metadata": {},
   "source": [
    "### L1-dcache-load"
   ]
  },
  {
   "cell_type": "code",
   "execution_count": 13,
   "metadata": {},
   "outputs": [
    {
     "data": {
      "text/plain": [
       "<ErrorbarContainer object of 3 artists>"
      ]
     },
     "execution_count": 13,
     "metadata": {},
     "output_type": "execute_result"
    },
    {
     "data": {
      "image/png": "[encoded data removed]",
      "text/plain": [
       "<Figure size 1080x504 with 1 Axes>"
      ]
     },
     "metadata": {
      "needs_background": "light"
     },
     "output_type": "display_data"
    }
   ],
   "source": [
    "metric[\"L1_LOAD\"].sort()\n",
    "X = [dt[0] for dt in metric[\"L1_LOAD\"]]\n",
    "Y = [dt[1][0] for dt in metric[\"L1_LOAD\"]]\n",
    "Y2 = []\n",
    "Y2.append([dt[1][1] for dt in metric[\"L1_LOAD\"]])\n",
    "Y2.append([dt[1][2] for dt in metric[\"L1_LOAD\"]])\n",
    "\n",
    "plt.xlabel('Configuração do algoritmo')\n",
    "plt.ylabel('Quantidade de acessos')\n",
    "%matplotlib inline\n",
    "plt.rcParams['figure.figsize'] = (15,7)\n",
    "\n",
    "plt.title(\"L1-dcache-load\")\n",
    "plt.errorbar(X, Y, yerr=Y2, uplims=True, lolims=True, fmt='none', color='red')"
   ]
  },
  {
   "cell_type": "markdown",
   "metadata": {},
   "source": [
    "### L1-dcache-load-misses"
   ]
  },
  {
   "cell_type": "code",
   "execution_count": 15,
   "metadata": {
    "scrolled": false
   },
   "outputs": [
    {
     "data": {
      "text/plain": [
       "<ErrorbarContainer object of 3 artists>"
      ]
     },
     "execution_count": 15,
     "metadata": {},
     "output_type": "execute_result"
    },
    {
     "data": {
      "image/png": "[encoded data removed]",
      "text/plain": [
       "<Figure size 1080x504 with 1 Axes>"
      ]
     },
     "metadata": {
      "needs_background": "light"
     },
     "output_type": "display_data"
    }
   ],
   "source": [
    "metric[\"L1_MISS\"].sort()\n",
    "X = [dt[0] for dt in metric[\"L1_MISS\"]]\n",
    "Y = [dt[1][0] for dt in metric[\"L1_MISS\"]]\n",
    "Y2 = []\n",
    "Y2.append([dt[1][1] for dt in metric[\"L1_MISS\"]])\n",
    "Y2.append([dt[1][2] for dt in metric[\"L1_MISS\"]])\n",
    "\n",
    "plt.xlabel('Configuração do algoritmo')\n",
    "plt.ylabel('Quantidade de acessos')\n",
    "%matplotlib inline\n",
    "plt.rcParams['figure.figsize'] = (15,7)\n",
    "\n",
    "plt.title(\"L1-dcache-load-misses\")\n",
    "plt.errorbar(X, Y, yerr=Y2, uplims=True, lolims=True, fmt='none', color='red')"
   ]
  },
  {
   "cell_type": "markdown",
   "metadata": {},
   "source": [
    "### branch-instructions"
   ]
  },
  {
   "cell_type": "code",
   "execution_count": 16,
   "metadata": {},
   "outputs": [
    {
     "data": {
      "text/plain": [
       "<ErrorbarContainer object of 3 artists>"
      ]
     },
     "execution_count": 16,
     "metadata": {},
     "output_type": "execute_result"
    },
    {
     "data": {
      "image/png": "[encoded data removed]",
      "text/plain": [
       "<Figure size 1080x504 with 1 Axes>"
      ]
     },
     "metadata": {
      "needs_background": "light"
     },
     "output_type": "display_data"
    }
   ],
   "source": [
    "metric[\"BR_INST\"].sort()\n",
    "X = [dt[0] for dt in metric[\"BR_INST\"]]\n",
    "Y = [dt[1][0] for dt in metric[\"BR_INST\"]]\n",
    "Y2 = []\n",
    "Y2.append([dt[1][1] for dt in metric[\"BR_INST\"]])\n",
    "Y2.append([dt[1][2] for dt in metric[\"BR_INST\"]])\n",
    "\n",
    "plt.xlabel('Configuração do algoritmo')\n",
    "plt.ylabel('Quantidade de acessos')\n",
    "%matplotlib inline\n",
    "plt.rcParams['figure.figsize'] = (15,7)\n",
    "\n",
    "plt.title(\"branch-instructions\")\n",
    "plt.errorbar(X, Y, yerr=Y2, uplims=True, lolims=True, fmt='none', color='red')"
   ]
  },
  {
   "cell_type": "markdown",
   "metadata": {},
   "source": [
    "### branch-misses"
   ]
  },
  {
   "cell_type": "code",
   "execution_count": 18,
   "metadata": {},
   "outputs": [
    {
     "data": {
      "text/plain": [
       "<ErrorbarContainer object of 3 artists>"
      ]
     },
     "execution_count": 18,
     "metadata": {},
     "output_type": "execute_result"
    },
    {
     "data": {
      "image/png": "[encoded data removed]",
      "text/plain": [
       "<Figure size 1080x504 with 1 Axes>"
      ]
     },
     "metadata": {
      "needs_background": "light"
     },
     "output_type": "display_data"
    }
   ],
   "source": [
    "metric[\"BR_MISS\"].sort()\n",
    "X = [dt[0] for dt in metric[\"BR_MISS\"]]\n",
    "Y = [dt[1][0] for dt in metric[\"BR_MISS\"]]\n",
    "Y2 = []\n",
    "Y2.append([dt[1][1] for dt in metric[\"BR_MISS\"]])\n",
    "Y2.append([dt[1][2] for dt in metric[\"BR_MISS\"]])\n",
    "\n",
    "plt.xlabel('Configuração do algoritmo')\n",
    "plt.ylabel('Quantidade de acessos')\n",
    "%matplotlib inline\n",
    "plt.rcParams['figure.figsize'] = (15,7)\n",
    "\n",
    "plt.title(\"branch-misses\")\n",
    "plt.errorbar(X, Y, yerr=Y2, uplims=True, lolims=True, fmt='none', color='red')"
   ]
  },
  {
   "cell_type": "markdown",
   "metadata": {},
   "source": [
    "# Discussão dos resultados\n",
    "\n",
    "De modo geral, pode-se observar a variação dos acessos e *misses* ao *L1-dcache* e as *branches*. Tais números tornam-se muito grandes, conforme o *n* cresce. Outro resultado interessante foi o fato do intervalo de confiança ter uma amplitude muito maior nos *misses* de *branch* e *L1-dcache*, ou seja, tal número de acessos e misses pode variar muito a depender da execução."
   ]
  }
 ],
 "metadata": {
  "kernelspec": {
   "display_name": "Python 3",
   "language": "python",
   "name": "python3"
  },
  "language_info": {
   "codemirror_mode": {
    "name": "ipython",
    "version": 3
   },
   "file_extension": ".py",
   "mimetype": "text/x-python",
   "name": "python",
   "nbconvert_exporter": "python",
   "pygments_lexer": "ipython3",
   "version": "3.7.4"
  }
 },
 "nbformat": 4,
 "nbformat_minor": 2
}

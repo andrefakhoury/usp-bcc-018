{
 "cells": [
  {
   "cell_type": "code",
   "execution_count": 1,
   "metadata": {},
   "outputs": [],
   "source": [
    "import numpy as np"
   ]
  },
  {
   "cell_type": "code",
   "execution_count": 2,
   "metadata": {},
   "outputs": [],
   "source": [
    "def lu_decomposition(A):\n",
    "    n = A.shape[0]\n",
    "    \n",
    "    U = np.zeros_like(A)\n",
    "    L = np.zeros_like(A)\n",
    "    \n",
    "    for j in range(n):\n",
    "        L[j][j] = 1.0\n",
    "        \n",
    "        for i in range(j+1):\n",
    "            sum = 0\n",
    "            for k in range(i):\n",
    "                sum += U[k][j] * L[i][k]\n",
    "            U[i][j] = A[i][j] - sum\n",
    "        \n",
    "        for i in range(j, n):\n",
    "            sum = 0\n",
    "            for k in range(j):\n",
    "                sum += U[k][j] * L[i][k]\n",
    "            L[i][j] = (A[i][j] - sum) / U[j][j]\n",
    "    \n",
    "    return L, U"
   ]
  },
  {
   "cell_type": "code",
   "execution_count": 3,
   "metadata": {},
   "outputs": [],
   "source": [
    "# A * x = C\n",
    "def lower_solve(A, c):\n",
    "    return A    "
   ]
  },
  {
   "cell_type": "code",
   "execution_count": 4,
   "metadata": {},
   "outputs": [],
   "source": [
    "# A * x = C\n",
    "def upper_solve(A, c):\n",
    "    return A    "
   ]
  },
  {
   "cell_type": "code",
   "execution_count": 5,
   "metadata": {},
   "outputs": [
    {
     "name": "stdout",
     "output_type": "stream",
     "text": [
      "[[ 1.  0.  0.]\n",
      " [ 1.  1.  0.]\n",
      " [-2.  4.  1.]]\n",
      "\n",
      "[[ 1.  2.  0.]\n",
      " [ 0.  1.  1.]\n",
      " [ 0.  0. -3.]]\n"
     ]
    }
   ],
   "source": [
    "A = np.array([[1, 2, 0], [1, 3, 1], [-2, 0, 1]]).astype('float64')\n",
    "L, U = lu_decomposition(A)\n",
    "print(L)\n",
    "print()\n",
    "print(U)"
   ]
  }
 ],
 "metadata": {
  "kernelspec": {
   "display_name": "Python 3",
   "language": "python",
   "name": "python3"
  },
  "language_info": {
   "codemirror_mode": {
    "name": "ipython",
    "version": 3
   },
   "file_extension": ".py",
   "mimetype": "text/x-python",
   "name": "python",
   "nbconvert_exporter": "python",
   "pygments_lexer": "ipython3",
   "version": "3.7.1"
  }
 },
 "nbformat": 4,
 "nbformat_minor": 2
}

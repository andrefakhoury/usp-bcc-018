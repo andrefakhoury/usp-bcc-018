{
 "cells": [
  {
   "cell_type": "markdown",
   "metadata": {},
   "source": [
    "# Cálculo da inversa de uma matriz"
   ]
  },
  {
   "cell_type": "markdown",
   "metadata": {},
   "source": [
    "Seja A $\\in$ $\\mathbb{M}_n(\\mathbb{R})$\n",
    "\n",
    "$$A^{-1} = [v_1 v_2 \\cdots v_n]$$\n",
    "Em que $v_k$ são as colunas da matriz inversa.\n",
    "\n",
    "Assim,\n",
    "\n",
    "$$A A^{-1} = I$$\n",
    "$$A [v_1 v_2 \\cdots v_n] = [e_1 e_2 \\cdots e_n] $$ (Copiar a foto)\n",
    "\n",
    "Logo, basta resolver $n$ sistemas lineares $A \\cdot v_i = e_i$"
   ]
  },
  {
   "cell_type": "code",
   "execution_count": 11,
   "metadata": {},
   "outputs": [],
   "source": [
    "import numpy as np\n",
    "\n",
    "from ipynb.fs.full.LU import lu_decomposition\n",
    "from ipynb.fs.full.LU import lower_solve\n",
    "from ipynb.fs.full.LU import upper_solve"
   ]
  },
  {
   "cell_type": "code",
   "execution_count": 12,
   "metadata": {},
   "outputs": [],
   "source": [
    "def inverse_matrix(A):\n",
    "    L, U = lu_decomposition(A)    \n",
    "    return A"
   ]
  },
  {
   "cell_type": "code",
   "execution_count": 13,
   "metadata": {},
   "outputs": [
    {
     "name": "stdout",
     "output_type": "stream",
     "text": [
      "[[ 1.  2.  0.]\n",
      " [ 1.  3.  1.]\n",
      " [-2.  0.  1.]]\n"
     ]
    }
   ],
   "source": [
    "A = np.array([[1, 2, 0], [1, 3, 1], [-2, 0, 1]]).astype('float64')\n",
    "print(inverse_matrix(A))"
   ]
  }
 ],
 "metadata": {
  "kernelspec": {
   "display_name": "Python 3",
   "language": "python",
   "name": "python3"
  },
  "language_info": {
   "codemirror_mode": {
    "name": "ipython",
    "version": 3
   },
   "file_extension": ".py",
   "mimetype": "text/x-python",
   "name": "python",
   "nbconvert_exporter": "python",
   "pygments_lexer": "ipython3",
   "version": "3.7.1"
  }
 },
 "nbformat": 4,
 "nbformat_minor": 2
}
